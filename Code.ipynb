{
  "nbformat": 4,
  "nbformat_minor": 0,
  "metadata": {
    "colab": {
      "name": "Harsh_Desai_03111996_code_1.ipynb",
      "provenance": [],
      "collapsed_sections": []
    },
    "kernelspec": {
      "name": "python3",
      "display_name": "Python 3"
    },
    "accelerator": "GPU"
  },
  "cells": [
    {
      "cell_type": "code",
      "metadata": {
        "id": "aXGHQnNw-eRy",
        "colab_type": "code",
        "colab": {}
      },
      "source": [
        "#importing libraries\n",
        "import pandas as pd\n",
        "import numpy as np\n",
        "import matplotlib\n",
        "import matplotlib.pyplot as plt\n",
        "import seaborn as sns\n",
        "from sklearn.linear_model import LogisticRegression\n",
        "from sklearn.model_selection import GridSearchCV\n",
        "from sklearn.svm import SVC\n",
        "from sklearn.preprocessing import LabelEncoder\n",
        "from sklearn.preprocessing import StandardScaler\n",
        "%matplotlib inline"
      ],
      "execution_count": 0,
      "outputs": []
    },
    {
      "cell_type": "code",
      "metadata": {
        "id": "FY1mW7Z5H-W9",
        "colab_type": "code",
        "outputId": "360c8cf2-0f40-4a61-df6f-aa096eb8bbb6",
        "colab": {
          "base_uri": "https://localhost:8080/",
          "height": 317
        }
      },
      "source": [
        "#reading dataset \n",
        "df=pd.read_csv(\"/content/data.csv\")\n",
        "df.head(5)"
      ],
      "execution_count": 3,
      "outputs": [
        {
          "output_type": "execute_result",
          "data": {
            "text/html": [
              "<div>\n",
              "<style scoped>\n",
              "    .dataframe tbody tr th:only-of-type {\n",
              "        vertical-align: middle;\n",
              "    }\n",
              "\n",
              "    .dataframe tbody tr th {\n",
              "        vertical-align: top;\n",
              "    }\n",
              "\n",
              "    .dataframe thead th {\n",
              "        text-align: right;\n",
              "    }\n",
              "</style>\n",
              "<table border=\"1\" class=\"dataframe\">\n",
              "  <thead>\n",
              "    <tr style=\"text-align: right;\">\n",
              "      <th></th>\n",
              "      <th>Unnamed: 0</th>\n",
              "      <th>match_event_id</th>\n",
              "      <th>location_x</th>\n",
              "      <th>location_y</th>\n",
              "      <th>remaining_min</th>\n",
              "      <th>power_of_shot</th>\n",
              "      <th>knockout_match</th>\n",
              "      <th>game_season</th>\n",
              "      <th>remaining_sec</th>\n",
              "      <th>distance_of_shot</th>\n",
              "      <th>is_goal</th>\n",
              "      <th>area_of_shot</th>\n",
              "      <th>shot_basics</th>\n",
              "      <th>range_of_shot</th>\n",
              "      <th>team_name</th>\n",
              "      <th>date_of_game</th>\n",
              "      <th>home/away</th>\n",
              "      <th>shot_id_number</th>\n",
              "      <th>lat/lng</th>\n",
              "      <th>type_of_shot</th>\n",
              "      <th>type_of_combined_shot</th>\n",
              "      <th>match_id</th>\n",
              "      <th>team_id</th>\n",
              "      <th>remaining_min.1</th>\n",
              "      <th>power_of_shot.1</th>\n",
              "      <th>knockout_match.1</th>\n",
              "      <th>remaining_sec.1</th>\n",
              "      <th>distance_of_shot.1</th>\n",
              "    </tr>\n",
              "  </thead>\n",
              "  <tbody>\n",
              "    <tr>\n",
              "      <th>0</th>\n",
              "      <td>0</td>\n",
              "      <td>10.0</td>\n",
              "      <td>167.0</td>\n",
              "      <td>72.0</td>\n",
              "      <td>10.0</td>\n",
              "      <td>1.0</td>\n",
              "      <td>0.0</td>\n",
              "      <td>2000-01</td>\n",
              "      <td>27.0</td>\n",
              "      <td>38.0</td>\n",
              "      <td>NaN</td>\n",
              "      <td>Right Side(R)</td>\n",
              "      <td>Mid Range</td>\n",
              "      <td>16-24 ft.</td>\n",
              "      <td>Manchester United</td>\n",
              "      <td>2000-10-31</td>\n",
              "      <td>MANU @ POR</td>\n",
              "      <td>1.0</td>\n",
              "      <td>45.539131, -122.651648</td>\n",
              "      <td>shot - 30</td>\n",
              "      <td>NaN</td>\n",
              "      <td>20000012</td>\n",
              "      <td>1610612747</td>\n",
              "      <td>10.00</td>\n",
              "      <td>1.0</td>\n",
              "      <td>50.608</td>\n",
              "      <td>54.2000</td>\n",
              "      <td>38.0</td>\n",
              "    </tr>\n",
              "    <tr>\n",
              "      <th>1</th>\n",
              "      <td>1</td>\n",
              "      <td>12.0</td>\n",
              "      <td>-157.0</td>\n",
              "      <td>0.0</td>\n",
              "      <td>10.0</td>\n",
              "      <td>1.0</td>\n",
              "      <td>0.0</td>\n",
              "      <td>2000-01</td>\n",
              "      <td>22.0</td>\n",
              "      <td>35.0</td>\n",
              "      <td>0.0</td>\n",
              "      <td>Left Side(L)</td>\n",
              "      <td>Mid Range</td>\n",
              "      <td>8-16 ft.</td>\n",
              "      <td>Manchester United</td>\n",
              "      <td>2000-10-31</td>\n",
              "      <td>MANU @ POR</td>\n",
              "      <td>2.0</td>\n",
              "      <td>45.539131, -122.651648</td>\n",
              "      <td>shot - 45</td>\n",
              "      <td>NaN</td>\n",
              "      <td>20000012</td>\n",
              "      <td>1610612747</td>\n",
              "      <td>10.00</td>\n",
              "      <td>1.0</td>\n",
              "      <td>28.800</td>\n",
              "      <td>22.0000</td>\n",
              "      <td>35.0</td>\n",
              "    </tr>\n",
              "    <tr>\n",
              "      <th>2</th>\n",
              "      <td>2</td>\n",
              "      <td>35.0</td>\n",
              "      <td>-101.0</td>\n",
              "      <td>135.0</td>\n",
              "      <td>7.0</td>\n",
              "      <td>1.0</td>\n",
              "      <td>0.0</td>\n",
              "      <td>2000-01</td>\n",
              "      <td>45.0</td>\n",
              "      <td>36.0</td>\n",
              "      <td>1.0</td>\n",
              "      <td>Left Side Center(LC)</td>\n",
              "      <td>Mid Range</td>\n",
              "      <td>16-24 ft.</td>\n",
              "      <td>Manchester United</td>\n",
              "      <td>2000-10-31</td>\n",
              "      <td>NaN</td>\n",
              "      <td>3.0</td>\n",
              "      <td>45.539131, -122.651648</td>\n",
              "      <td>shot - 25</td>\n",
              "      <td>NaN</td>\n",
              "      <td>20000012</td>\n",
              "      <td>1610612747</td>\n",
              "      <td>92.64</td>\n",
              "      <td>1.0</td>\n",
              "      <td>0.000</td>\n",
              "      <td>63.7216</td>\n",
              "      <td>54.4</td>\n",
              "    </tr>\n",
              "    <tr>\n",
              "      <th>3</th>\n",
              "      <td>3</td>\n",
              "      <td>43.0</td>\n",
              "      <td>138.0</td>\n",
              "      <td>175.0</td>\n",
              "      <td>6.0</td>\n",
              "      <td>1.0</td>\n",
              "      <td>0.0</td>\n",
              "      <td>2000-01</td>\n",
              "      <td>52.0</td>\n",
              "      <td>42.0</td>\n",
              "      <td>0.0</td>\n",
              "      <td>Right Side Center(RC)</td>\n",
              "      <td>Mid Range</td>\n",
              "      <td>16-24 ft.</td>\n",
              "      <td>Manchester United</td>\n",
              "      <td>2000-10-31</td>\n",
              "      <td>MANU @ POR</td>\n",
              "      <td>4.0</td>\n",
              "      <td>45.539131, -122.651648</td>\n",
              "      <td>NaN</td>\n",
              "      <td>shot - 3</td>\n",
              "      <td>20000012</td>\n",
              "      <td>1610612747</td>\n",
              "      <td>NaN</td>\n",
              "      <td>1.0</td>\n",
              "      <td>122.608</td>\n",
              "      <td>52.0000</td>\n",
              "      <td>42.0</td>\n",
              "    </tr>\n",
              "    <tr>\n",
              "      <th>4</th>\n",
              "      <td>4</td>\n",
              "      <td>155.0</td>\n",
              "      <td>0.0</td>\n",
              "      <td>0.0</td>\n",
              "      <td>NaN</td>\n",
              "      <td>2.0</td>\n",
              "      <td>0.0</td>\n",
              "      <td>2000-01</td>\n",
              "      <td>19.0</td>\n",
              "      <td>20.0</td>\n",
              "      <td>1.0</td>\n",
              "      <td>Center(C)</td>\n",
              "      <td>Goal Area</td>\n",
              "      <td>Less Than 8 ft.</td>\n",
              "      <td>NaN</td>\n",
              "      <td>2000-10-31</td>\n",
              "      <td>MANU @ POR</td>\n",
              "      <td>5.0</td>\n",
              "      <td>45.539131, -122.651648</td>\n",
              "      <td>NaN</td>\n",
              "      <td>shot - 1</td>\n",
              "      <td>20000012</td>\n",
              "      <td>1610612747</td>\n",
              "      <td>42.64</td>\n",
              "      <td>2.0</td>\n",
              "      <td>0.000</td>\n",
              "      <td>19.0000</td>\n",
              "      <td>20.0</td>\n",
              "    </tr>\n",
              "  </tbody>\n",
              "</table>\n",
              "</div>"
            ],
            "text/plain": [
              "   Unnamed: 0  match_event_id  ...  remaining_sec.1  distance_of_shot.1\n",
              "0           0            10.0  ...          54.2000                38.0\n",
              "1           1            12.0  ...          22.0000                35.0\n",
              "2           2            35.0  ...          63.7216                54.4\n",
              "3           3            43.0  ...          52.0000                42.0\n",
              "4           4           155.0  ...          19.0000                20.0\n",
              "\n",
              "[5 rows x 28 columns]"
            ]
          },
          "metadata": {
            "tags": []
          },
          "execution_count": 3
        }
      ]
    },
    {
      "cell_type": "code",
      "metadata": {
        "id": "34o2kQTB_act",
        "colab_type": "code",
        "colab": {}
      },
      "source": [
        "#removing some features\n",
        "df=df.drop(['Unnamed: 0','team_name','team_id','date_of_game'],axis=1)"
      ],
      "execution_count": 0,
      "outputs": []
    },
    {
      "cell_type": "code",
      "metadata": {
        "id": "mTnWeAX7_uEI",
        "colab_type": "code",
        "outputId": "4222f352-75b5-4b37-8749-296c6e9e9c5a",
        "colab": {
          "base_uri": "https://localhost:8080/",
          "height": 34
        }
      },
      "source": [
        "df.shape"
      ],
      "execution_count": 5,
      "outputs": [
        {
          "output_type": "execute_result",
          "data": {
            "text/plain": [
              "(30697, 24)"
            ]
          },
          "metadata": {
            "tags": []
          },
          "execution_count": 5
        }
      ]
    },
    {
      "cell_type": "code",
      "metadata": {
        "id": "NUaQeo5W0Xso",
        "colab_type": "code",
        "colab": {}
      },
      "source": [
        "#fill shot_id_number\n",
        "shot_id_number=[i+1 for i in range(30697)]\n",
        "df['shot_id_number']=shot_id_number"
      ],
      "execution_count": 0,
      "outputs": []
    },
    {
      "cell_type": "code",
      "metadata": {
        "colab_type": "code",
        "id": "tmSNW-_c6b0e",
        "colab": {}
      },
      "source": [
        "\"\"\"create training dataset\"\"\"\n",
        "#select rows with non NAN values in is_goal column \n",
        "traindf = df[np.isfinite(df['is_goal'])]\n",
        "X_train=traindf.loc[:, traindf.columns != 'is_goal']\n",
        "y_train=traindf['is_goal']"
      ],
      "execution_count": 0,
      "outputs": []
    },
    {
      "cell_type": "code",
      "metadata": {
        "id": "sZAAl0bT6N39",
        "colab_type": "code",
        "outputId": "d7fa817d-eb55-44e2-9c34-1e8622206300",
        "colab": {
          "base_uri": "https://localhost:8080/",
          "height": 34
        }
      },
      "source": [
        "#fill missing values\n",
        "X_train=X_train.fillna(method='ffill')\n",
        "X_train=X_train.fillna(method='bfill')\n",
        "#check number of null values\n",
        "print(X_train.isnull().sum().sum())"
      ],
      "execution_count": 38,
      "outputs": [
        {
          "output_type": "stream",
          "text": [
            "0\n"
          ],
          "name": "stdout"
        }
      ]
    },
    {
      "cell_type": "code",
      "metadata": {
        "id": "QrnklyQSRWsW",
        "colab_type": "code",
        "colab": {}
      },
      "source": [
        "#taking average of power_of_shot and power_of_shot.1\n",
        "X_train['power_of_shot']=(X_train['power_of_shot']+X_train['power_of_shot.1'])/2\n",
        "\n",
        "#taking average of remaining_min and remaining_min.1\n",
        "X_train['remaining_min']=(X_train['remaining_min']+X_train['remaining_min.1'])/2\n",
        "\n",
        "#taking average of remaining_sec and remaining_sec.1 and converting to minutes and adding to remaining_min\n",
        "X_train['remaining_min']=X_train['remaining_min']+(X_train['remaining_sec']+X_train['remaining_sec.1'])/120\n",
        "\n",
        "#taking average of distance_of_shot and distance_of_shot.1 \n",
        "X_train['distance_of_shot']=(X_train['distance_of_shot']+X_train['distance_of_shot.1'])/2\n",
        "\n",
        "#taking average of knockout_match and knockout_match.1\n",
        "X_train['knockout_match']=(X_train['knockout_match']+X_train['knockout_match.1'])/2\n",
        "\n",
        "#removing extra columns\n",
        "X_train=X_train.drop(['knockout_match.1','power_of_shot.1','remaining_min.1','remaining_sec.1','remaining_sec','distance_of_shot.1'],axis=1)"
      ],
      "execution_count": 0,
      "outputs": []
    },
    {
      "cell_type": "code",
      "metadata": {
        "id": "TX1TGD-H6fMe",
        "colab_type": "code",
        "colab": {}
      },
      "source": [
        "#converting categorical features to numerical values using label encoder\n",
        "le=LabelEncoder()\n",
        "X_train['area_of_shot']=le.fit_transform(X_train['area_of_shot'])\n",
        "X_train['shot_basics']=le.fit_transform(X_train['shot_basics'])\n",
        "X_train['range_of_shot']=le.fit_transform(X_train['range_of_shot'])\n",
        "X_train['home/away']=le.fit_transform(X_train['home/away'])\n",
        "X_train['game_season']=le.fit_transform(X_train['game_season'])\n",
        "X_train['type_of_shot']=le.fit_transform(X_train['type_of_shot'])\n",
        "X_train['type_of_combined_shot']=le.fit_transform(X_train['type_of_combined_shot'])"
      ],
      "execution_count": 0,
      "outputs": []
    },
    {
      "cell_type": "code",
      "metadata": {
        "id": "2vqDlA3iBkot",
        "colab_type": "code",
        "colab": {}
      },
      "source": [
        "#splitting lat/lng column into seperate columns\n",
        "res=X_train[\"lat/lng\"].str.split(\",\", n = 1, expand = True)\n",
        "X_train[\"lat\"]=res.iloc[:,0]\n",
        "X_train[\"lng\"]=res.iloc[:,1]\n",
        "X_train['lat']=pd.to_numeric(X_train['lat'])\n",
        "X_train['lng']=pd.to_numeric(X_train['lng'])\n",
        "\n",
        "#dropping lat/lng column after splitting\n",
        "X_train=X_train.drop(['lat/lng'],axis=1)"
      ],
      "execution_count": 0,
      "outputs": []
    },
    {
      "cell_type": "code",
      "metadata": {
        "id": "KNd8eeFJ5J7P",
        "colab_type": "code",
        "colab": {}
      },
      "source": [
        "\"\"\"create test dataset\"\"\"\n",
        "\n",
        "#select rows with NAN values is_goal column\n",
        "testdf=df[df['is_goal'].isnull()]\n",
        "X_test=testdf.loc[:, testdf.columns != 'is_goal']\n",
        "y_test=testdf['is_goal']"
      ],
      "execution_count": 0,
      "outputs": []
    },
    {
      "cell_type": "code",
      "metadata": {
        "id": "9c5HShI3C7C0",
        "colab_type": "code",
        "outputId": "05dabd8f-6997-4a54-df3b-04ec6b314187",
        "colab": {
          "base_uri": "https://localhost:8080/",
          "height": 34
        }
      },
      "source": [
        "#fill missing values\n",
        "X_test=X_test.fillna(method='ffill')\n",
        "X_test=X_test.fillna(method='bfill')\n",
        "#check number of null values\n",
        "X_test.isnull().sum().sum()"
      ],
      "execution_count": 13,
      "outputs": [
        {
          "output_type": "execute_result",
          "data": {
            "text/plain": [
              "0"
            ]
          },
          "metadata": {
            "tags": []
          },
          "execution_count": 13
        }
      ]
    },
    {
      "cell_type": "code",
      "metadata": {
        "id": "AUO-Y2AaX1D1",
        "colab_type": "code",
        "colab": {}
      },
      "source": [
        "#following steps are similar done during training\n",
        "X_test['power_of_shot']=(X_test['power_of_shot']+X_test['power_of_shot.1'])/2\n",
        "X_test['remaining_min']=(X_test['remaining_min']+X_test['remaining_min.1'])/2\n",
        "X_test['remaining_min']=X_test['remaining_min']+(X_test['remaining_sec']+X_test['remaining_sec.1'])/120\n",
        "X_test['distance_of_shot']=(X_test['distance_of_shot']+X_test['distance_of_shot.1'])/2\n",
        "X_test['knockout_match']=(X_test['knockout_match']+X_test['knockout_match.1'])/2\n",
        "\n",
        "#removing extra columns\n",
        "X_test=X_test.drop(['knockout_match.1','power_of_shot.1','remaining_min.1','remaining_sec.1','remaining_sec','distance_of_shot.1'],axis=1)"
      ],
      "execution_count": 0,
      "outputs": []
    },
    {
      "cell_type": "code",
      "metadata": {
        "id": "4N3BFAnu8QXA",
        "colab_type": "code",
        "colab": {}
      },
      "source": [
        "#converting categorical features to numerical values using label encoder\n",
        "le=LabelEncoder()\n",
        "X_test['area_of_shot']=le.fit_transform(X_test['area_of_shot'])\n",
        "X_test['shot_basics']=le.fit_transform(X_test['shot_basics'])\n",
        "X_test['range_of_shot']=le.fit_transform(X_test['range_of_shot'])\n",
        "X_test['home/away']=le.fit_transform(X_test['home/away'])\n",
        "X_test['game_season']=le.fit_transform(X_test['game_season'])\n",
        "X_test['type_of_shot']=le.fit_transform(X_test['type_of_shot'])\n",
        "X_test['type_of_combined_shot']=le.fit_transform(X_test['type_of_combined_shot'])"
      ],
      "execution_count": 0,
      "outputs": []
    },
    {
      "cell_type": "code",
      "metadata": {
        "id": "3j9kuQ1j-1Zo",
        "colab_type": "code",
        "colab": {}
      },
      "source": [
        "#split lat/lng columns into seperate columns\n",
        "res=X_test[\"lat/lng\"].str.split(\",\", n = 1, expand = True)\n",
        "X_test[\"lat\"]=res.iloc[:,0]\n",
        "X_test[\"lng\"]=res.iloc[:,1]\n",
        "X_test['lat']=pd.to_numeric(X_test['lat'])\n",
        "X_test['lng']=pd.to_numeric(X_test['lng'])\n",
        "\n",
        "#dropping lat/lng column after splitting\n",
        "X_test=X_test.drop(['lat/lng'],axis=1)"
      ],
      "execution_count": 0,
      "outputs": []
    },
    {
      "cell_type": "code",
      "metadata": {
        "id": "MMHlerp2w3zS",
        "colab_type": "code",
        "outputId": "4ed562db-147f-46a1-d0bb-7f1840035960",
        "colab": {
          "base_uri": "https://localhost:8080/",
          "height": 217
        }
      },
      "source": [
        "X_test.head(5)"
      ],
      "execution_count": 17,
      "outputs": [
        {
          "output_type": "execute_result",
          "data": {
            "text/html": [
              "<div>\n",
              "<style scoped>\n",
              "    .dataframe tbody tr th:only-of-type {\n",
              "        vertical-align: middle;\n",
              "    }\n",
              "\n",
              "    .dataframe tbody tr th {\n",
              "        vertical-align: top;\n",
              "    }\n",
              "\n",
              "    .dataframe thead th {\n",
              "        text-align: right;\n",
              "    }\n",
              "</style>\n",
              "<table border=\"1\" class=\"dataframe\">\n",
              "  <thead>\n",
              "    <tr style=\"text-align: right;\">\n",
              "      <th></th>\n",
              "      <th>match_event_id</th>\n",
              "      <th>location_x</th>\n",
              "      <th>location_y</th>\n",
              "      <th>remaining_min</th>\n",
              "      <th>power_of_shot</th>\n",
              "      <th>knockout_match</th>\n",
              "      <th>game_season</th>\n",
              "      <th>distance_of_shot</th>\n",
              "      <th>area_of_shot</th>\n",
              "      <th>shot_basics</th>\n",
              "      <th>range_of_shot</th>\n",
              "      <th>home/away</th>\n",
              "      <th>shot_id_number</th>\n",
              "      <th>type_of_shot</th>\n",
              "      <th>type_of_combined_shot</th>\n",
              "      <th>match_id</th>\n",
              "      <th>lat</th>\n",
              "      <th>lng</th>\n",
              "    </tr>\n",
              "  </thead>\n",
              "  <tbody>\n",
              "    <tr>\n",
              "      <th>0</th>\n",
              "      <td>10.0</td>\n",
              "      <td>167.0</td>\n",
              "      <td>72.0</td>\n",
              "      <td>10.676667</td>\n",
              "      <td>1.00</td>\n",
              "      <td>25.304</td>\n",
              "      <td>4</td>\n",
              "      <td>38.0</td>\n",
              "      <td>5</td>\n",
              "      <td>4</td>\n",
              "      <td>0</td>\n",
              "      <td>28</td>\n",
              "      <td>1</td>\n",
              "      <td>24</td>\n",
              "      <td>3</td>\n",
              "      <td>20000012</td>\n",
              "      <td>45.539131</td>\n",
              "      <td>-122.651648</td>\n",
              "    </tr>\n",
              "    <tr>\n",
              "      <th>7</th>\n",
              "      <td>254.0</td>\n",
              "      <td>1.0</td>\n",
              "      <td>28.0</td>\n",
              "      <td>38.403333</td>\n",
              "      <td>3.00</td>\n",
              "      <td>0.000</td>\n",
              "      <td>4</td>\n",
              "      <td>22.0</td>\n",
              "      <td>0</td>\n",
              "      <td>0</td>\n",
              "      <td>4</td>\n",
              "      <td>28</td>\n",
              "      <td>8</td>\n",
              "      <td>24</td>\n",
              "      <td>3</td>\n",
              "      <td>20000012</td>\n",
              "      <td>45.539131</td>\n",
              "      <td>-122.651648</td>\n",
              "    </tr>\n",
              "    <tr>\n",
              "      <th>16</th>\n",
              "      <td>100.0</td>\n",
              "      <td>0.0</td>\n",
              "      <td>0.0</td>\n",
              "      <td>0.016667</td>\n",
              "      <td>1.00</td>\n",
              "      <td>0.000</td>\n",
              "      <td>4</td>\n",
              "      <td>20.0</td>\n",
              "      <td>0</td>\n",
              "      <td>0</td>\n",
              "      <td>4</td>\n",
              "      <td>71</td>\n",
              "      <td>17</td>\n",
              "      <td>24</td>\n",
              "      <td>4</td>\n",
              "      <td>20000019</td>\n",
              "      <td>42.982923</td>\n",
              "      <td>-71.446094</td>\n",
              "    </tr>\n",
              "    <tr>\n",
              "      <th>19</th>\n",
              "      <td>249.0</td>\n",
              "      <td>0.0</td>\n",
              "      <td>0.0</td>\n",
              "      <td>10.766667</td>\n",
              "      <td>36.68</td>\n",
              "      <td>0.000</td>\n",
              "      <td>4</td>\n",
              "      <td>20.0</td>\n",
              "      <td>0</td>\n",
              "      <td>0</td>\n",
              "      <td>4</td>\n",
              "      <td>71</td>\n",
              "      <td>20</td>\n",
              "      <td>34</td>\n",
              "      <td>4</td>\n",
              "      <td>20000019</td>\n",
              "      <td>42.982923</td>\n",
              "      <td>-71.446094</td>\n",
              "    </tr>\n",
              "    <tr>\n",
              "      <th>21</th>\n",
              "      <td>265.0</td>\n",
              "      <td>134.0</td>\n",
              "      <td>127.0</td>\n",
              "      <td>9.066667</td>\n",
              "      <td>23.18</td>\n",
              "      <td>0.000</td>\n",
              "      <td>4</td>\n",
              "      <td>38.0</td>\n",
              "      <td>4</td>\n",
              "      <td>4</td>\n",
              "      <td>0</td>\n",
              "      <td>71</td>\n",
              "      <td>22</td>\n",
              "      <td>17</td>\n",
              "      <td>4</td>\n",
              "      <td>20000019</td>\n",
              "      <td>42.982923</td>\n",
              "      <td>-71.446094</td>\n",
              "    </tr>\n",
              "  </tbody>\n",
              "</table>\n",
              "</div>"
            ],
            "text/plain": [
              "    match_event_id  location_x  location_y  ...  match_id        lat         lng\n",
              "0             10.0       167.0        72.0  ...  20000012  45.539131 -122.651648\n",
              "7            254.0         1.0        28.0  ...  20000012  45.539131 -122.651648\n",
              "16           100.0         0.0         0.0  ...  20000019  42.982923  -71.446094\n",
              "19           249.0         0.0         0.0  ...  20000019  42.982923  -71.446094\n",
              "21           265.0       134.0       127.0  ...  20000019  42.982923  -71.446094\n",
              "\n",
              "[5 rows x 18 columns]"
            ]
          },
          "metadata": {
            "tags": []
          },
          "execution_count": 17
        }
      ]
    },
    {
      "cell_type": "code",
      "metadata": {
        "id": "l97CSitBjbUa",
        "colab_type": "code",
        "colab": {
          "base_uri": "https://localhost:8080/",
          "height": 217
        },
        "outputId": "bd344bdb-1e8d-4f9d-abdd-fa895b111759"
      },
      "source": [
        "X_train.head(5)"
      ],
      "execution_count": 42,
      "outputs": [
        {
          "output_type": "execute_result",
          "data": {
            "text/html": [
              "<div>\n",
              "<style scoped>\n",
              "    .dataframe tbody tr th:only-of-type {\n",
              "        vertical-align: middle;\n",
              "    }\n",
              "\n",
              "    .dataframe tbody tr th {\n",
              "        vertical-align: top;\n",
              "    }\n",
              "\n",
              "    .dataframe thead th {\n",
              "        text-align: right;\n",
              "    }\n",
              "</style>\n",
              "<table border=\"1\" class=\"dataframe\">\n",
              "  <thead>\n",
              "    <tr style=\"text-align: right;\">\n",
              "      <th></th>\n",
              "      <th>match_event_id</th>\n",
              "      <th>location_x</th>\n",
              "      <th>location_y</th>\n",
              "      <th>remaining_min</th>\n",
              "      <th>power_of_shot</th>\n",
              "      <th>knockout_match</th>\n",
              "      <th>game_season</th>\n",
              "      <th>distance_of_shot</th>\n",
              "      <th>area_of_shot</th>\n",
              "      <th>shot_basics</th>\n",
              "      <th>range_of_shot</th>\n",
              "      <th>home/away</th>\n",
              "      <th>shot_id_number</th>\n",
              "      <th>type_of_shot</th>\n",
              "      <th>type_of_combined_shot</th>\n",
              "      <th>match_id</th>\n",
              "      <th>lat</th>\n",
              "      <th>lng</th>\n",
              "    </tr>\n",
              "  </thead>\n",
              "  <tbody>\n",
              "    <tr>\n",
              "      <th>1</th>\n",
              "      <td>12.0</td>\n",
              "      <td>-157.0</td>\n",
              "      <td>0.0</td>\n",
              "      <td>10.366667</td>\n",
              "      <td>1.0</td>\n",
              "      <td>14.400</td>\n",
              "      <td>4</td>\n",
              "      <td>35.0</td>\n",
              "      <td>2</td>\n",
              "      <td>4</td>\n",
              "      <td>2</td>\n",
              "      <td>28</td>\n",
              "      <td>2</td>\n",
              "      <td>40</td>\n",
              "      <td>3</td>\n",
              "      <td>20000012</td>\n",
              "      <td>45.539131</td>\n",
              "      <td>-122.651648</td>\n",
              "    </tr>\n",
              "    <tr>\n",
              "      <th>2</th>\n",
              "      <td>35.0</td>\n",
              "      <td>-101.0</td>\n",
              "      <td>135.0</td>\n",
              "      <td>50.726013</td>\n",
              "      <td>1.0</td>\n",
              "      <td>0.000</td>\n",
              "      <td>4</td>\n",
              "      <td>45.2</td>\n",
              "      <td>1</td>\n",
              "      <td>4</td>\n",
              "      <td>0</td>\n",
              "      <td>28</td>\n",
              "      <td>3</td>\n",
              "      <td>18</td>\n",
              "      <td>3</td>\n",
              "      <td>20000012</td>\n",
              "      <td>45.539131</td>\n",
              "      <td>-122.651648</td>\n",
              "    </tr>\n",
              "    <tr>\n",
              "      <th>3</th>\n",
              "      <td>43.0</td>\n",
              "      <td>138.0</td>\n",
              "      <td>175.0</td>\n",
              "      <td>50.186667</td>\n",
              "      <td>1.0</td>\n",
              "      <td>61.304</td>\n",
              "      <td>4</td>\n",
              "      <td>42.0</td>\n",
              "      <td>4</td>\n",
              "      <td>4</td>\n",
              "      <td>0</td>\n",
              "      <td>28</td>\n",
              "      <td>4</td>\n",
              "      <td>18</td>\n",
              "      <td>3</td>\n",
              "      <td>20000012</td>\n",
              "      <td>45.539131</td>\n",
              "      <td>-122.651648</td>\n",
              "    </tr>\n",
              "    <tr>\n",
              "      <th>4</th>\n",
              "      <td>155.0</td>\n",
              "      <td>0.0</td>\n",
              "      <td>0.0</td>\n",
              "      <td>24.636667</td>\n",
              "      <td>2.0</td>\n",
              "      <td>0.000</td>\n",
              "      <td>4</td>\n",
              "      <td>20.0</td>\n",
              "      <td>0</td>\n",
              "      <td>0</td>\n",
              "      <td>4</td>\n",
              "      <td>28</td>\n",
              "      <td>5</td>\n",
              "      <td>18</td>\n",
              "      <td>1</td>\n",
              "      <td>20000012</td>\n",
              "      <td>45.539131</td>\n",
              "      <td>-122.651648</td>\n",
              "    </tr>\n",
              "    <tr>\n",
              "      <th>5</th>\n",
              "      <td>244.0</td>\n",
              "      <td>-145.0</td>\n",
              "      <td>-11.0</td>\n",
              "      <td>9.425000</td>\n",
              "      <td>3.0</td>\n",
              "      <td>0.000</td>\n",
              "      <td>4</td>\n",
              "      <td>34.0</td>\n",
              "      <td>2</td>\n",
              "      <td>4</td>\n",
              "      <td>2</td>\n",
              "      <td>28</td>\n",
              "      <td>6</td>\n",
              "      <td>9</td>\n",
              "      <td>1</td>\n",
              "      <td>20000012</td>\n",
              "      <td>45.539131</td>\n",
              "      <td>-122.651648</td>\n",
              "    </tr>\n",
              "  </tbody>\n",
              "</table>\n",
              "</div>"
            ],
            "text/plain": [
              "   match_event_id  location_x  location_y  ...  match_id        lat         lng\n",
              "1            12.0      -157.0         0.0  ...  20000012  45.539131 -122.651648\n",
              "2            35.0      -101.0       135.0  ...  20000012  45.539131 -122.651648\n",
              "3            43.0       138.0       175.0  ...  20000012  45.539131 -122.651648\n",
              "4           155.0         0.0         0.0  ...  20000012  45.539131 -122.651648\n",
              "5           244.0      -145.0       -11.0  ...  20000012  45.539131 -122.651648\n",
              "\n",
              "[5 rows x 18 columns]"
            ]
          },
          "metadata": {
            "tags": []
          },
          "execution_count": 42
        }
      ]
    },
    {
      "cell_type": "markdown",
      "metadata": {
        "id": "P60PftD7zTDW",
        "colab_type": "text"
      },
      "source": [
        "**Exploratory Data Analysis**"
      ]
    },
    {
      "cell_type": "code",
      "metadata": {
        "id": "IRvIPZFN_njB",
        "colab_type": "code",
        "colab": {}
      },
      "source": [
        "Xtemp=traindf.copy(deep=True)\n",
        "Xtemp=Xtemp.fillna(method='ffill')\n",
        "Xtemp=Xtemp.fillna(method='bfill')"
      ],
      "execution_count": 0,
      "outputs": []
    },
    {
      "cell_type": "code",
      "metadata": {
        "id": "e78d65RqqLkj",
        "colab_type": "code",
        "outputId": "a93b6cc4-b463-4922-e65c-4d8916c4a173",
        "colab": {
          "base_uri": "https://localhost:8080/",
          "height": 141
        }
      },
      "source": [
        "Xtemp[Xtemp['is_goal']==1]['area_of_shot'].value_counts()"
      ],
      "execution_count": 83,
      "outputs": [
        {
          "output_type": "execute_result",
          "data": {
            "text/plain": [
              "Center(C)                5578\n",
              "Right Side(R)            1467\n",
              "Right Side Center(RC)    1455\n",
              "Left Side Center(LC)     1195\n",
              "Left Side(L)             1180\n",
              "Mid Ground(MG)              4\n",
              "Name: area_of_shot, dtype: int64"
            ]
          },
          "metadata": {
            "tags": []
          },
          "execution_count": 83
        }
      ]
    },
    {
      "cell_type": "code",
      "metadata": {
        "id": "LQv7zeigqeAW",
        "colab_type": "code",
        "outputId": "1c86fb8d-2f90-4e78-a385-09d4da1ad2df",
        "colab": {
          "base_uri": "https://localhost:8080/",
          "height": 123
        }
      },
      "source": [
        "Xtemp[Xtemp['is_goal']==1]['range_of_shot'].value_counts()"
      ],
      "execution_count": 84,
      "outputs": [
        {
          "output_type": "execute_result",
          "data": {
            "text/plain": [
              "Less Than 8 ft.    4237\n",
              "16-24 ft.          2630\n",
              "8-16 ft.           2327\n",
              "24+ ft.            1679\n",
              "Back Court Shot       6\n",
              "Name: range_of_shot, dtype: int64"
            ]
          },
          "metadata": {
            "tags": []
          },
          "execution_count": 84
        }
      ]
    },
    {
      "cell_type": "code",
      "metadata": {
        "id": "T81jrbLQqwDx",
        "colab_type": "code",
        "outputId": "628453ed-cbe3-4acf-990f-e07ba5e8aa77",
        "colab": {
          "base_uri": "https://localhost:8080/",
          "height": 158
        }
      },
      "source": [
        "Xtemp[Xtemp['is_goal']==1]['shot_basics'].value_counts()"
      ],
      "execution_count": 85,
      "outputs": [
        {
          "output_type": "execute_result",
          "data": {
            "text/plain": [
              "Mid Range          4043\n",
              "Goal Area          3430\n",
              "Goal Line          1686\n",
              "Penalty Spot       1521\n",
              "Right Corner        110\n",
              "Left Corner          85\n",
              "Mid Ground Line       4\n",
              "Name: shot_basics, dtype: int64"
            ]
          },
          "metadata": {
            "tags": []
          },
          "execution_count": 85
        }
      ]
    },
    {
      "cell_type": "code",
      "metadata": {
        "id": "9f-jPOpoBYXb",
        "colab_type": "code",
        "colab": {
          "base_uri": "https://localhost:8080/",
          "height": 141
        },
        "outputId": "aabd40bc-8290-4191-87d5-4a7921788491"
      },
      "source": [
        "Xtemp[Xtemp['is_goal']==1]['type_of_combined_shot'].value_counts()"
      ],
      "execution_count": 86,
      "outputs": [
        {
          "output_type": "execute_result",
          "data": {
            "text/plain": [
              "shot - 3    7801\n",
              "shot - 4    2242\n",
              "shot - 1     659\n",
              "shot - 2      62\n",
              "shot - 0      62\n",
              "shot - 5      53\n",
              "Name: type_of_combined_shot, dtype: int64"
            ]
          },
          "metadata": {
            "tags": []
          },
          "execution_count": 86
        }
      ]
    },
    {
      "cell_type": "code",
      "metadata": {
        "id": "xnb6G2-A-gnZ",
        "colab_type": "code",
        "colab": {
          "base_uri": "https://localhost:8080/",
          "height": 1000
        },
        "outputId": "27cbe959-f4f1-42b5-ca75-32bed0034e2e"
      },
      "source": [
        "Xtemp[Xtemp['is_goal']==1]['type_of_shot'].value_counts()"
      ],
      "execution_count": 76,
      "outputs": [
        {
          "output_type": "execute_result",
          "data": {
            "text/plain": [
              "shot - 4     967\n",
              "shot - 39    935\n",
              "shot - 36    812\n",
              "shot - 15    553\n",
              "shot - 44    528\n",
              "shot - 38    457\n",
              "shot - 12    330\n",
              "shot - 17    327\n",
              "shot - 43    297\n",
              "shot - 32    282\n",
              "shot - 52    280\n",
              "shot - 46    236\n",
              "shot - 56    234\n",
              "shot - 31    174\n",
              "shot - 10    156\n",
              "shot - 1     153\n",
              "shot - 49    138\n",
              "shot - 27    138\n",
              "shot - 26    136\n",
              "shot - 55    130\n",
              "shot - 24    129\n",
              "shot - 3     125\n",
              "shot - 8     124\n",
              "shot - 18    122\n",
              "shot - 19    120\n",
              "shot - 48    115\n",
              "shot - 21    114\n",
              "shot - 16    113\n",
              "shot - 5     113\n",
              "shot - 51    110\n",
              "shot - 53    110\n",
              "shot - 54    110\n",
              "shot - 29    106\n",
              "shot - 14    102\n",
              "shot - 13    101\n",
              "shot - 42    101\n",
              "shot - 11     99\n",
              "shot - 22     98\n",
              "shot - 45     95\n",
              "shot - 2      94\n",
              "shot - 20     91\n",
              "shot - 6      90\n",
              "shot - 9      89\n",
              "shot - 23     89\n",
              "shot - 37     88\n",
              "shot - 40     86\n",
              "shot - 50     85\n",
              "shot - 28     85\n",
              "shot - 30     84\n",
              "shot - 35     84\n",
              "shot - 7      82\n",
              "shot - 41     81\n",
              "shot - 33     79\n",
              "shot - 0      78\n",
              "shot - 47     76\n",
              "shot - 34     74\n",
              "shot - 25     74\n",
              "Name: type_of_shot, dtype: int64"
            ]
          },
          "metadata": {
            "tags": []
          },
          "execution_count": 76
        }
      ]
    },
    {
      "cell_type": "code",
      "metadata": {
        "id": "zKWMTlahvj5R",
        "colab_type": "code",
        "colab": {}
      },
      "source": [
        "Xtemp['home_away']=Xtemp['home/away'].str.replace(\"@\", \"vs.\", case = False)"
      ],
      "execution_count": 0,
      "outputs": []
    },
    {
      "cell_type": "code",
      "metadata": {
        "id": "wWf0-VSIxz9u",
        "colab_type": "code",
        "colab": {
          "base_uri": "https://localhost:8080/",
          "height": 710
        },
        "outputId": "6312691c-d3f6-4bf3-a04b-ba3a01e04579"
      },
      "source": [
        "Xtemp[Xtemp['is_goal']==1]['home_away'].value_counts()"
      ],
      "execution_count": 89,
      "outputs": [
        {
          "output_type": "execute_result",
          "data": {
            "text/plain": [
              "MANU vs. SAS    671\n",
              "MANU vs. PHX    657\n",
              "MANU vs. SAC    617\n",
              "MANU vs. DEN    588\n",
              "MANU vs. HOU    584\n",
              "MANU vs. POR    573\n",
              "MANU vs. MIN    513\n",
              "MANU vs. UTA    508\n",
              "MANU vs. GSW    492\n",
              "MANU vs. LAC    461\n",
              "MANU vs. DAL    446\n",
              "MANU vs. MEM    375\n",
              "MANU vs. BOS    306\n",
              "MANU vs. SEA    298\n",
              "MANU vs. PHI    260\n",
              "MANU vs. NYK    255\n",
              "MANU vs. DET    246\n",
              "MANU vs. ORL    246\n",
              "MANU vs. TOR    241\n",
              "MANU vs. IND    237\n",
              "MANU vs. OKC    223\n",
              "MANU vs. MIA    216\n",
              "MANU vs. CLE    213\n",
              "MANU vs. CHI    213\n",
              "MANU vs. NOH    207\n",
              "MANU vs. WAS    203\n",
              "MANU vs. MIL    199\n",
              "MANU vs. ATL    193\n",
              "MANU vs. NJN    175\n",
              "MANU vs. CHA    157\n",
              "MANU vs. VAN     91\n",
              "MANU vs. NOK     83\n",
              "MANU vs. CHH     51\n",
              "MANU vs. NOP     30\n",
              "MANU vs. PHO     19\n",
              "MANU vs. BKN     18\n",
              "MANU vs. SAN      7\n",
              "MANU vs. UTH      7\n",
              "Name: home_away, dtype: int64"
            ]
          },
          "metadata": {
            "tags": []
          },
          "execution_count": 89
        }
      ]
    },
    {
      "cell_type": "code",
      "metadata": {
        "id": "ZJQikeJnjkjR",
        "colab_type": "code",
        "colab": {
          "base_uri": "https://localhost:8080/",
          "height": 307
        },
        "outputId": "06d86095-ef9c-4207-c5f9-adabed5983ef"
      },
      "source": [
        "# goal stats\n",
        "Xtemp=X_train\n",
        "Xtemp['is_goal']=y_train\n",
        "Xtemp=Xtemp[Xtemp['is_goal']==1]\n",
        "Xtemp.describe()"
      ],
      "execution_count": 92,
      "outputs": [
        {
          "output_type": "execute_result",
          "data": {
            "text/html": [
              "<div>\n",
              "<style scoped>\n",
              "    .dataframe tbody tr th:only-of-type {\n",
              "        vertical-align: middle;\n",
              "    }\n",
              "\n",
              "    .dataframe tbody tr th {\n",
              "        vertical-align: top;\n",
              "    }\n",
              "\n",
              "    .dataframe thead th {\n",
              "        text-align: right;\n",
              "    }\n",
              "</style>\n",
              "<table border=\"1\" class=\"dataframe\">\n",
              "  <thead>\n",
              "    <tr style=\"text-align: right;\">\n",
              "      <th></th>\n",
              "      <th>match_event_id</th>\n",
              "      <th>location_x</th>\n",
              "      <th>location_y</th>\n",
              "      <th>remaining_min</th>\n",
              "      <th>power_of_shot</th>\n",
              "      <th>knockout_match</th>\n",
              "      <th>game_season</th>\n",
              "      <th>distance_of_shot</th>\n",
              "      <th>area_of_shot</th>\n",
              "      <th>shot_basics</th>\n",
              "      <th>range_of_shot</th>\n",
              "      <th>home/away</th>\n",
              "      <th>shot_id_number</th>\n",
              "      <th>type_of_shot</th>\n",
              "      <th>type_of_combined_shot</th>\n",
              "      <th>match_id</th>\n",
              "      <th>lat</th>\n",
              "      <th>lng</th>\n",
              "      <th>is_goal</th>\n",
              "    </tr>\n",
              "  </thead>\n",
              "  <tbody>\n",
              "    <tr>\n",
              "      <th>count</th>\n",
              "      <td>10879.000000</td>\n",
              "      <td>10879.000000</td>\n",
              "      <td>10879.000000</td>\n",
              "      <td>10879.000000</td>\n",
              "      <td>10879.000000</td>\n",
              "      <td>10879.000000</td>\n",
              "      <td>10879.000000</td>\n",
              "      <td>10879.000000</td>\n",
              "      <td>10879.000000</td>\n",
              "      <td>10879.000000</td>\n",
              "      <td>10879.000000</td>\n",
              "      <td>10879.000000</td>\n",
              "      <td>10879.000000</td>\n",
              "      <td>10879.000000</td>\n",
              "      <td>10879.000000</td>\n",
              "      <td>1.087900e+04</td>\n",
              "      <td>10879.000000</td>\n",
              "      <td>10879.000000</td>\n",
              "      <td>10879.0</td>\n",
              "    </tr>\n",
              "    <tr>\n",
              "      <th>mean</th>\n",
              "      <td>242.643625</td>\n",
              "      <td>6.677636</td>\n",
              "      <td>78.041824</td>\n",
              "      <td>12.305758</td>\n",
              "      <td>9.199491</td>\n",
              "      <td>8.303818</td>\n",
              "      <td>9.330545</td>\n",
              "      <td>34.365756</td>\n",
              "      <td>1.537090</td>\n",
              "      <td>2.417961</td>\n",
              "      <td>2.141649</td>\n",
              "      <td>37.160677</td>\n",
              "      <td>15204.332383</td>\n",
              "      <td>28.442320</td>\n",
              "      <td>3.071882</td>\n",
              "      <td>2.474171e+07</td>\n",
              "      <td>40.322543</td>\n",
              "      <td>-85.279645</td>\n",
              "      <td>1.0</td>\n",
              "    </tr>\n",
              "    <tr>\n",
              "      <th>std</th>\n",
              "      <td>148.821665</td>\n",
              "      <td>101.033093</td>\n",
              "      <td>81.389525</td>\n",
              "      <td>15.045552</td>\n",
              "      <td>14.875945</td>\n",
              "      <td>17.485232</td>\n",
              "      <td>4.761950</td>\n",
              "      <td>12.079670</td>\n",
              "      <td>1.922443</td>\n",
              "      <td>2.036858</td>\n",
              "      <td>1.630929</td>\n",
              "      <td>21.062028</td>\n",
              "      <td>8879.244428</td>\n",
              "      <td>14.747852</td>\n",
              "      <td>0.720934</td>\n",
              "      <td>7.740298e+06</td>\n",
              "      <td>4.847380</td>\n",
              "      <td>18.081098</td>\n",
              "      <td>0.0</td>\n",
              "    </tr>\n",
              "    <tr>\n",
              "      <th>min</th>\n",
              "      <td>2.000000</td>\n",
              "      <td>-250.000000</td>\n",
              "      <td>-44.000000</td>\n",
              "      <td>0.000000</td>\n",
              "      <td>1.000000</td>\n",
              "      <td>0.000000</td>\n",
              "      <td>0.000000</td>\n",
              "      <td>14.700000</td>\n",
              "      <td>0.000000</td>\n",
              "      <td>0.000000</td>\n",
              "      <td>0.000000</td>\n",
              "      <td>0.000000</td>\n",
              "      <td>3.000000</td>\n",
              "      <td>0.000000</td>\n",
              "      <td>0.000000</td>\n",
              "      <td>2.000001e+07</td>\n",
              "      <td>25.790710</td>\n",
              "      <td>-123.114646</td>\n",
              "      <td>1.0</td>\n",
              "    </tr>\n",
              "    <tr>\n",
              "      <th>25%</th>\n",
              "      <td>104.000000</td>\n",
              "      <td>-42.000000</td>\n",
              "      <td>0.000000</td>\n",
              "      <td>3.433333</td>\n",
              "      <td>2.000000</td>\n",
              "      <td>0.000000</td>\n",
              "      <td>5.000000</td>\n",
              "      <td>23.000000</td>\n",
              "      <td>0.000000</td>\n",
              "      <td>0.000000</td>\n",
              "      <td>1.000000</td>\n",
              "      <td>17.000000</td>\n",
              "      <td>7589.500000</td>\n",
              "      <td>16.000000</td>\n",
              "      <td>3.000000</td>\n",
              "      <td>2.050004e+07</td>\n",
              "      <td>38.567296</td>\n",
              "      <td>-96.786653</td>\n",
              "      <td>1.0</td>\n",
              "    </tr>\n",
              "    <tr>\n",
              "      <th>50%</th>\n",
              "      <td>247.000000</td>\n",
              "      <td>0.000000</td>\n",
              "      <td>53.000000</td>\n",
              "      <td>6.766667</td>\n",
              "      <td>3.000000</td>\n",
              "      <td>0.000000</td>\n",
              "      <td>9.000000</td>\n",
              "      <td>34.000000</td>\n",
              "      <td>0.000000</td>\n",
              "      <td>4.000000</td>\n",
              "      <td>2.000000</td>\n",
              "      <td>36.000000</td>\n",
              "      <td>15034.000000</td>\n",
              "      <td>32.000000</td>\n",
              "      <td>3.000000</td>\n",
              "      <td>2.090010e+07</td>\n",
              "      <td>42.982923</td>\n",
              "      <td>-71.446094</td>\n",
              "      <td>1.0</td>\n",
              "    </tr>\n",
              "    <tr>\n",
              "      <th>75%</th>\n",
              "      <td>357.000000</td>\n",
              "      <td>75.000000</td>\n",
              "      <td>146.000000</td>\n",
              "      <td>11.082440</td>\n",
              "      <td>4.000000</td>\n",
              "      <td>1.000000</td>\n",
              "      <td>13.000000</td>\n",
              "      <td>41.000000</td>\n",
              "      <td>4.000000</td>\n",
              "      <td>4.000000</td>\n",
              "      <td>4.000000</td>\n",
              "      <td>54.000000</td>\n",
              "      <td>23015.000000</td>\n",
              "      <td>39.000000</td>\n",
              "      <td>3.000000</td>\n",
              "      <td>2.960046e+07</td>\n",
              "      <td>42.982923</td>\n",
              "      <td>-71.446094</td>\n",
              "      <td>1.0</td>\n",
              "    </tr>\n",
              "    <tr>\n",
              "      <th>max</th>\n",
              "      <td>650.000000</td>\n",
              "      <td>248.000000</td>\n",
              "      <td>432.000000</td>\n",
              "      <td>69.047467</td>\n",
              "      <td>61.180000</td>\n",
              "      <td>70.676160</td>\n",
              "      <td>19.000000</td>\n",
              "      <td>79.864000</td>\n",
              "      <td>5.000000</td>\n",
              "      <td>6.000000</td>\n",
              "      <td>4.000000</td>\n",
              "      <td>73.000000</td>\n",
              "      <td>30695.000000</td>\n",
              "      <td>56.000000</td>\n",
              "      <td>5.000000</td>\n",
              "      <td>4.990009e+07</td>\n",
              "      <td>49.250068</td>\n",
              "      <td>-71.074655</td>\n",
              "      <td>1.0</td>\n",
              "    </tr>\n",
              "  </tbody>\n",
              "</table>\n",
              "</div>"
            ],
            "text/plain": [
              "       match_event_id    location_x  ...           lng  is_goal\n",
              "count    10879.000000  10879.000000  ...  10879.000000  10879.0\n",
              "mean       242.643625      6.677636  ...    -85.279645      1.0\n",
              "std        148.821665    101.033093  ...     18.081098      0.0\n",
              "min          2.000000   -250.000000  ...   -123.114646      1.0\n",
              "25%        104.000000    -42.000000  ...    -96.786653      1.0\n",
              "50%        247.000000      0.000000  ...    -71.446094      1.0\n",
              "75%        357.000000     75.000000  ...    -71.446094      1.0\n",
              "max        650.000000    248.000000  ...    -71.074655      1.0\n",
              "\n",
              "[8 rows x 19 columns]"
            ]
          },
          "metadata": {
            "tags": []
          },
          "execution_count": 92
        }
      ]
    },
    {
      "cell_type": "code",
      "metadata": {
        "id": "KboYxsSTA95_",
        "colab_type": "code",
        "colab": {
          "base_uri": "https://localhost:8080/",
          "height": 1000
        },
        "outputId": "fdb6986a-89ec-4e57-d1d1-721dad924940"
      },
      "source": [
        "# histogram analysis\n",
        "Xtemp.hist(bins=50,figsize=(15,15))"
      ],
      "execution_count": 94,
      "outputs": [
        {
          "output_type": "execute_result",
          "data": {
            "text/plain": [
              "array([[<matplotlib.axes._subplots.AxesSubplot object at 0x7f084fa65ef0>,\n",
              "        <matplotlib.axes._subplots.AxesSubplot object at 0x7f084f8a7b70>,\n",
              "        <matplotlib.axes._subplots.AxesSubplot object at 0x7f084fa18198>,\n",
              "        <matplotlib.axes._subplots.AxesSubplot object at 0x7f084f3fcc88>],\n",
              "       [<matplotlib.axes._subplots.AxesSubplot object at 0x7f084f40a240>,\n",
              "        <matplotlib.axes._subplots.AxesSubplot object at 0x7f084f39c7b8>,\n",
              "        <matplotlib.axes._subplots.AxesSubplot object at 0x7f084f3bdd30>,\n",
              "        <matplotlib.axes._subplots.AxesSubplot object at 0x7f084f365320>],\n",
              "       [<matplotlib.axes._subplots.AxesSubplot object at 0x7f084f365358>,\n",
              "        <matplotlib.axes._subplots.AxesSubplot object at 0x7f084f335dd8>,\n",
              "        <matplotlib.axes._subplots.AxesSubplot object at 0x7f084f2e6390>,\n",
              "        <matplotlib.axes._subplots.AxesSubplot object at 0x7f084f30b908>],\n",
              "       [<matplotlib.axes._subplots.AxesSubplot object at 0x7f084f2b4e80>,\n",
              "        <matplotlib.axes._subplots.AxesSubplot object at 0x7f084f266438>,\n",
              "        <matplotlib.axes._subplots.AxesSubplot object at 0x7f084f28e9b0>,\n",
              "        <matplotlib.axes._subplots.AxesSubplot object at 0x7f084f236f28>],\n",
              "       [<matplotlib.axes._subplots.AxesSubplot object at 0x7f084f1e84e0>,\n",
              "        <matplotlib.axes._subplots.AxesSubplot object at 0x7f084f20fa58>,\n",
              "        <matplotlib.axes._subplots.AxesSubplot object at 0x7f084f1b7fd0>,\n",
              "        <matplotlib.axes._subplots.AxesSubplot object at 0x7f084f168588>]],\n",
              "      dtype=object)"
            ]
          },
          "metadata": {
            "tags": []
          },
          "execution_count": 94
        },
        {
          "output_type": "display_data",
          "data": {
            "image/png": "[encoded data removed]",
            "text/plain": [
              "<Figure size 1080x1080 with 20 Axes>"
            ]
          },
          "metadata": {
            "tags": []
          }
        }
      ]
    },
    {
      "cell_type": "code",
      "metadata": {
        "id": "jsqbzCLLxLJc",
        "colab_type": "code",
        "outputId": "884bbe61-f1ab-4fce-b3ae-b55f72511095",
        "colab": {
          "base_uri": "https://localhost:8080/",
          "height": 702
        }
      },
      "source": [
        "\"\"\"Plotting Heat Map to check correlation among features\"\"\"\n",
        "test=pd.DataFrame(X_train)\n",
        "test['is_goal']=y_train\n",
        "\n",
        "#Using Pearson Correlation\n",
        "plt.figure(figsize=(12,10))\n",
        "cor = test.corr()\n",
        "sns.heatmap(cor, annot=True, cmap=plt.cm.Reds)\n",
        "plt.show()"
      ],
      "execution_count": 0,
      "outputs": [
        {
          "output_type": "display_data",
          "data": {
            "image/png": "[encoded data removed]",
            "text/plain": [
              "<Figure size 864x720 with 2 Axes>"
            ]
          },
          "metadata": {
            "tags": []
          }
        }
      ]
    },
    {
      "cell_type": "code",
      "metadata": {
        "id": "TabQcsKCzqwU",
        "colab_type": "code",
        "outputId": "015515ff-53a9-4ee9-bd43-bbfe90012a92",
        "colab": {
          "base_uri": "https://localhost:8080/",
          "height": 141
        }
      },
      "source": [
        "#Correlation with output variable\n",
        "cor_target = abs(cor[\"is_goal\"])\n",
        "\n",
        "#Selecting highly correlated features\n",
        "relevant_features = cor_target[cor_target>0.05]\n",
        "relevant_features"
      ],
      "execution_count": 0,
      "outputs": [
        {
          "output_type": "execute_result",
          "data": {
            "text/plain": [
              "location_y          0.138639\n",
              "distance_of_shot    0.131622\n",
              "area_of_shot        0.099923\n",
              "shot_basics         0.178399\n",
              "range_of_shot       0.152113\n",
              "is_goal             1.000000\n",
              "Name: is_goal, dtype: float64"
            ]
          },
          "metadata": {
            "tags": []
          },
          "execution_count": 18
        }
      ]
    },
    {
      "cell_type": "code",
      "metadata": {
        "id": "L0jRjG5ipVdK",
        "colab_type": "code",
        "colab": {}
      },
      "source": [
        "#selecting relevant features from training and testing dataset\n",
        "Xtrain=X_train[['location_y','distance_of_shot','shot_basics','area_of_shot','range_of_shot']]\n",
        "Xtest=X_test[['location_y','distance_of_shot','shot_basics','area_of_shot','range_of_shot']]"
      ],
      "execution_count": 0,
      "outputs": []
    },
    {
      "cell_type": "code",
      "metadata": {
        "id": "1CnPD2BySCcx",
        "colab_type": "code",
        "colab": {}
      },
      "source": [
        "#scaling features\n",
        "scaler = StandardScaler()\n",
        "Xtrain=scaler.fit_transform(Xtrain)\n",
        "Xtest=scaler.fit_transform(Xtest)"
      ],
      "execution_count": 0,
      "outputs": []
    },
    {
      "cell_type": "code",
      "metadata": {
        "id": "vmnFJRTElha5",
        "colab_type": "code",
        "colab": {
          "base_uri": "https://localhost:8080/",
          "height": 197
        },
        "outputId": "413a4c29-e0c9-4038-bd54-efb9b48615da"
      },
      "source": [
        "Xscaled=pd.DataFrame(Xtrain,columns=['location_y','distance_of_shot','shot_basics','area_of_shot','range_of_shot'])\n",
        "Xscaled.head(5)"
      ],
      "execution_count": 24,
      "outputs": [
        {
          "output_type": "execute_result",
          "data": {
            "text/html": [
              "<div>\n",
              "<style scoped>\n",
              "    .dataframe tbody tr th:only-of-type {\n",
              "        vertical-align: middle;\n",
              "    }\n",
              "\n",
              "    .dataframe tbody tr th {\n",
              "        vertical-align: top;\n",
              "    }\n",
              "\n",
              "    .dataframe thead th {\n",
              "        text-align: right;\n",
              "    }\n",
              "</style>\n",
              "<table border=\"1\" class=\"dataframe\">\n",
              "  <thead>\n",
              "    <tr style=\"text-align: right;\">\n",
              "      <th></th>\n",
              "      <th>location_y</th>\n",
              "      <th>distance_of_shot</th>\n",
              "      <th>shot_basics</th>\n",
              "      <th>area_of_shot</th>\n",
              "      <th>range_of_shot</th>\n",
              "    </tr>\n",
              "  </thead>\n",
              "  <tbody>\n",
              "    <tr>\n",
              "      <th>0</th>\n",
              "      <td>-1.040308</td>\n",
              "      <td>-0.093521</td>\n",
              "      <td>0.599964</td>\n",
              "      <td>0.126000</td>\n",
              "      <td>0.079904</td>\n",
              "    </tr>\n",
              "    <tr>\n",
              "      <th>1</th>\n",
              "      <td>0.491610</td>\n",
              "      <td>0.764840</td>\n",
              "      <td>0.599964</td>\n",
              "      <td>-0.387095</td>\n",
              "      <td>-1.188847</td>\n",
              "    </tr>\n",
              "    <tr>\n",
              "      <th>2</th>\n",
              "      <td>0.945512</td>\n",
              "      <td>0.495550</td>\n",
              "      <td>0.599964</td>\n",
              "      <td>1.152191</td>\n",
              "      <td>-1.188847</td>\n",
              "    </tr>\n",
              "    <tr>\n",
              "      <th>3</th>\n",
              "      <td>-1.040308</td>\n",
              "      <td>-1.355816</td>\n",
              "      <td>-1.420370</td>\n",
              "      <td>-0.900190</td>\n",
              "      <td>1.348654</td>\n",
              "    </tr>\n",
              "    <tr>\n",
              "      <th>4</th>\n",
              "      <td>-1.165131</td>\n",
              "      <td>-0.177674</td>\n",
              "      <td>0.599964</td>\n",
              "      <td>0.126000</td>\n",
              "      <td>0.079904</td>\n",
              "    </tr>\n",
              "  </tbody>\n",
              "</table>\n",
              "</div>"
            ],
            "text/plain": [
              "   location_y  distance_of_shot  shot_basics  area_of_shot  range_of_shot\n",
              "0   -1.040308         -0.093521     0.599964      0.126000       0.079904\n",
              "1    0.491610          0.764840     0.599964     -0.387095      -1.188847\n",
              "2    0.945512          0.495550     0.599964      1.152191      -1.188847\n",
              "3   -1.040308         -1.355816    -1.420370     -0.900190       1.348654\n",
              "4   -1.165131         -0.177674     0.599964      0.126000       0.079904"
            ]
          },
          "metadata": {
            "tags": []
          },
          "execution_count": 24
        }
      ]
    },
    {
      "cell_type": "code",
      "metadata": {
        "id": "o2U-eR7_loLI",
        "colab_type": "code",
        "colab": {
          "base_uri": "https://localhost:8080/",
          "height": 302
        },
        "outputId": "d13ab6fd-5884-462a-b086-816ed8cf6a70"
      },
      "source": [
        "sns.boxplot(x=Xscaled['location_y'])"
      ],
      "execution_count": 25,
      "outputs": [
        {
          "output_type": "execute_result",
          "data": {
            "text/plain": [
              "<matplotlib.axes._subplots.AxesSubplot at 0x7f22a86209e8>"
            ]
          },
          "metadata": {
            "tags": []
          },
          "execution_count": 25
        },
        {
          "output_type": "display_data",
          "data": {
            "image/png": "[encoded data removed]",
            "text/plain": [
              "<Figure size 432x288 with 1 Axes>"
            ]
          },
          "metadata": {
            "tags": []
          }
        }
      ]
    },
    {
      "cell_type": "code",
      "metadata": {
        "id": "naB4Q0uymECG",
        "colab_type": "code",
        "colab": {
          "base_uri": "https://localhost:8080/",
          "height": 302
        },
        "outputId": "2210a7ba-2710-4172-fed0-2c4cab1dbe4e"
      },
      "source": [
        "sns.boxplot(x=Xscaled['distance_of_shot'])"
      ],
      "execution_count": 26,
      "outputs": [
        {
          "output_type": "execute_result",
          "data": {
            "text/plain": [
              "<matplotlib.axes._subplots.AxesSubplot at 0x7f22a992e518>"
            ]
          },
          "metadata": {
            "tags": []
          },
          "execution_count": 26
        },
        {
          "output_type": "display_data",
          "data": {
            "image/png": "[encoded data removed]",
            "text/plain": [
              "<Figure size 432x288 with 1 Axes>"
            ]
          },
          "metadata": {
            "tags": []
          }
        }
      ]
    },
    {
      "cell_type": "code",
      "metadata": {
        "id": "_5_sBZSymR_U",
        "colab_type": "code",
        "colab": {
          "base_uri": "https://localhost:8080/",
          "height": 302
        },
        "outputId": "ac24790b-a200-41d9-a27a-d0a67d32f556"
      },
      "source": [
        "sns.boxplot(x=Xscaled['area_of_shot'])"
      ],
      "execution_count": 27,
      "outputs": [
        {
          "output_type": "execute_result",
          "data": {
            "text/plain": [
              "<matplotlib.axes._subplots.AxesSubplot at 0x7f22a596cd30>"
            ]
          },
          "metadata": {
            "tags": []
          },
          "execution_count": 27
        },
        {
          "output_type": "display_data",
          "data": {
            "image/png": "[encoded data removed]",
            "text/plain": [
              "<Figure size 432x288 with 1 Axes>"
            ]
          },
          "metadata": {
            "tags": []
          }
        }
      ]
    },
    {
      "cell_type": "code",
      "metadata": {
        "id": "hX7DBMOimYc7",
        "colab_type": "code",
        "colab": {
          "base_uri": "https://localhost:8080/",
          "height": 302
        },
        "outputId": "4fff872a-6214-46c3-e4e6-0db5ab40b9a1"
      },
      "source": [
        "sns.boxplot(x=Xscaled['range_of_shot'])"
      ],
      "execution_count": 28,
      "outputs": [
        {
          "output_type": "execute_result",
          "data": {
            "text/plain": [
              "<matplotlib.axes._subplots.AxesSubplot at 0x7f22a58eacc0>"
            ]
          },
          "metadata": {
            "tags": []
          },
          "execution_count": 28
        },
        {
          "output_type": "display_data",
          "data": {
            "image/png": "[encoded data removed]",
            "text/plain": [
              "<Figure size 432x288 with 1 Axes>"
            ]
          },
          "metadata": {
            "tags": []
          }
        }
      ]
    },
    {
      "cell_type": "code",
      "metadata": {
        "id": "UnTYmiapmdKk",
        "colab_type": "code",
        "colab": {
          "base_uri": "https://localhost:8080/",
          "height": 302
        },
        "outputId": "f3fce97d-4673-45e2-c5d0-b7d7fbfe2c61"
      },
      "source": [
        "sns.boxplot(x=Xscaled['shot_basics'])"
      ],
      "execution_count": 29,
      "outputs": [
        {
          "output_type": "execute_result",
          "data": {
            "text/plain": [
              "<matplotlib.axes._subplots.AxesSubplot at 0x7f22a58b5c88>"
            ]
          },
          "metadata": {
            "tags": []
          },
          "execution_count": 29
        },
        {
          "output_type": "display_data",
          "data": {
            "image/png": "[encoded data removed]",
            "text/plain": [
              "<Figure size 432x288 with 1 Axes>"
            ]
          },
          "metadata": {
            "tags": []
          }
        }
      ]
    },
    {
      "cell_type": "markdown",
      "metadata": {
        "id": "I3BgMS90HahY",
        "colab_type": "text"
      },
      "source": [
        "**Logistic Regression**"
      ]
    },
    {
      "cell_type": "code",
      "metadata": {
        "id": "yDqrfCjrCr0i",
        "colab_type": "code",
        "colab": {}
      },
      "source": [
        "\n",
        "# lr = LogisticRegression(random_state=0,max_iter=100)\n",
        "# lr.fit(Xtrain, y_train)\n",
        "# y_pred=lr.predict(Xtest)\n",
        "# final=[]\n",
        "# for i in y_pred:\n",
        "#   final.append(i[1])\n",
        "# result = pd.DataFrame(X_test['shot_id_number'], columns = ['shot_id_number']) \n",
        "# result[\"is_goal\"]=final\n",
        "# sample=pd.read_csv(\"/content/sample_submission.csv\")\n",
        "# result=pd.merge(sample['shot_id_number'], result, on='shot_id_number')\n",
        "# result.to_csv(\"/content/result_LR.csv\",index=False)"
      ],
      "execution_count": 0,
      "outputs": []
    },
    {
      "cell_type": "code",
      "metadata": {
        "id": "c7SmSr8obhQa",
        "colab_type": "code",
        "outputId": "6e74ef24-dc41-4dd6-c86e-285e0253b93c",
        "colab": {
          "base_uri": "https://localhost:8080/",
          "height": 34
        }
      },
      "source": [
        "# result.shape"
      ],
      "execution_count": 0,
      "outputs": [
        {
          "output_type": "execute_result",
          "data": {
            "text/plain": [
              "(5000, 2)"
            ]
          },
          "metadata": {
            "tags": []
          },
          "execution_count": 23
        }
      ]
    },
    {
      "cell_type": "markdown",
      "metadata": {
        "id": "c41C06QnnYQH",
        "colab_type": "text"
      },
      "source": [
        "**SVM**"
      ]
    },
    {
      "cell_type": "code",
      "metadata": {
        "id": "W97MnL71xzom",
        "colab_type": "code",
        "colab": {}
      },
      "source": [
        "# Hyperparameter Tuning\n",
        "svm = SVC()\n",
        "parameters = {'C':(1,0.25,0.5,0.75)}\n",
        "clf = GridSearchCV(svm, parameters,verbose=10,n_jobs=4)\n",
        "clf.fit(Xtrain,y_train)\n",
        "clf.best_params_"
      ],
      "execution_count": 0,
      "outputs": []
    },
    {
      "cell_type": "code",
      "metadata": {
        "id": "rhrXexAZH4DU",
        "colab_type": "code",
        "outputId": "5c4b4e6b-6732-4a16-b9e4-932f6be40c6a",
        "colab": {
          "base_uri": "https://localhost:8080/",
          "height": 85
        }
      },
      "source": [
        "# Fitting Model\n",
        "svmmodel=SVC(C=0.5,random_state=0,probability=True,verbose=10)\n",
        "svmmodel.fit(Xtrain,y_train)"
      ],
      "execution_count": 0,
      "outputs": [
        {
          "output_type": "stream",
          "text": [
            "[LibSVM]"
          ],
          "name": "stdout"
        },
        {
          "output_type": "execute_result",
          "data": {
            "text/plain": [
              "SVC(C=0.5, cache_size=200, class_weight=None, coef0=0.0,\n",
              "    decision_function_shape='ovr', degree=3, gamma='auto_deprecated',\n",
              "    kernel='rbf', max_iter=-1, probability=True, random_state=0, shrinking=True,\n",
              "    tol=0.001, verbose=10)"
            ]
          },
          "metadata": {
            "tags": []
          },
          "execution_count": 99
        }
      ]
    },
    {
      "cell_type": "code",
      "metadata": {
        "id": "WOx-0W9MIR6o",
        "colab_type": "code",
        "outputId": "9f43f090-26d5-46ed-b90d-e5ccce690eb7",
        "colab": {
          "base_uri": "https://localhost:8080/",
          "height": 136
        }
      },
      "source": [
        "#predict probabilities\n",
        "y_pred=svmmodel.predict_proba(Xtest)\n",
        "y_pred"
      ],
      "execution_count": 0,
      "outputs": [
        {
          "output_type": "execute_result",
          "data": {
            "text/plain": [
              "array([[0.6080214 , 0.3919786 ],\n",
              "       [0.40097622, 0.59902378],\n",
              "       [0.38592005, 0.61407995],\n",
              "       ...,\n",
              "       [0.58637865, 0.41362135],\n",
              "       [0.61033693, 0.38966307],\n",
              "       [0.38592005, 0.61407995]])"
            ]
          },
          "metadata": {
            "tags": []
          },
          "execution_count": 100
        }
      ]
    },
    {
      "cell_type": "code",
      "metadata": {
        "id": "uydoEcdgIv7W",
        "colab_type": "code",
        "colab": {}
      },
      "source": [
        "# save result to csv file\n",
        "final=[]\n",
        "for i in y_pred:\n",
        "  final.append(i[1])\n",
        "result = pd.DataFrame(X_test['shot_id_number'], columns = ['shot_id_number']) \n",
        "result[\"is_goal\"]=final\n",
        "sample=pd.read_csv(\"/content/sample_submission.csv\")\n",
        "result=pd.merge(sample['shot_id_number'], result, on='shot_id_number')\n",
        "result.to_csv(\"/content/result_SVM.csv\",index=False)"
      ],
      "execution_count": 0,
      "outputs": []
    },
    {
      "cell_type": "markdown",
      "metadata": {
        "id": "m6o6bXR-nSIO",
        "colab_type": "text"
      },
      "source": [
        "**Nueral Network**"
      ]
    },
    {
      "cell_type": "code",
      "metadata": {
        "id": "yf-VawtUY_va",
        "colab_type": "code",
        "colab": {}
      },
      "source": [
        "from sklearn.neural_network import MLPClassifier\n",
        "clf = MLPClassifier(activation='logistic',learning_rate='adaptive',max_iter=5000,hidden_layer_sizes=(2), random_state=1,verbose=10).fit(Xtrain,y_train)\n"
      ],
      "execution_count": 0,
      "outputs": []
    },
    {
      "cell_type": "code",
      "metadata": {
        "id": "32xcwTo5BNgQ",
        "colab_type": "code",
        "colab": {}
      },
      "source": [
        "predict probabilities\n",
        "y_pred=clf.predict_proba(Xtest)"
      ],
      "execution_count": 0,
      "outputs": []
    },
    {
      "cell_type": "code",
      "metadata": {
        "id": "DP71IpLxmcah",
        "colab_type": "code",
        "colab": {}
      },
      "source": [
        "#save result to csv file\n",
        "final=[]\n",
        "for i in y_pred:\n",
        "  final.append(i[1])\n",
        "result = pd.DataFrame(X_test['shot_id_number'], columns = ['shot_id_number']) \n",
        "result[\"is_goal\"]=final\n",
        "sample=pd.read_csv(\"/content/sample_submission.csv\")\n",
        "result=pd.merge(sample['shot_id_number'], result, on='shot_id_number')\n",
        "result.to_csv(\"/content/result_MLP.csv\",index=False)"
      ],
      "execution_count": 0,
      "outputs": []
    },
    {
      "cell_type": "markdown",
      "metadata": {
        "id": "kZyluGxcICql",
        "colab_type": "text"
      },
      "source": [
        "**LDA**"
      ]
    },
    {
      "cell_type": "code",
      "metadata": {
        "id": "P_eaywABtZbV",
        "colab_type": "code",
        "colab": {}
      },
      "source": [
        "from sklearn.discriminant_analysis import LinearDiscriminantAnalysis\n",
        "lda = LinearDiscriminantAnalysis()\n"
      ],
      "execution_count": 0,
      "outputs": []
    },
    {
      "cell_type": "markdown",
      "metadata": {
        "id": "9ZMz9_FaIIBz",
        "colab_type": "text"
      },
      "source": [
        "**Ensemble**"
      ]
    },
    {
      "cell_type": "code",
      "metadata": {
        "id": "4ENaZkpK6F7D",
        "colab_type": "code",
        "colab": {}
      },
      "source": [
        "#votingclassfier used for ensembling\n",
        "from sklearn.ensemble import RandomForestClassifier\n",
        "from sklearn.neighbors import KNeighborsClassifier\n",
        "from sklearn.naive_bayes import GaussianNB\n",
        "from sklearn.ensemble import VotingClassifier\n",
        "\n",
        "random_forest = RandomForestClassifier()\n",
        "knn=KNeighborsClassifier()\n",
        "gnb = GaussianNB()"
      ],
      "execution_count": 0,
      "outputs": []
    },
    {
      "cell_type": "code",
      "metadata": {
        "id": "r-UnO0pnDZZv",
        "colab_type": "code",
        "colab": {}
      },
      "source": [
        "eclf1 = VotingClassifier(estimators=[('rf', random_forest), ('knn', knn), ('gnb', gnb),('svm',svmmodel),('lr',lr),('lda',lda)], voting='soft')\n",
        "eclf1 = eclf1.fit(Xtrain,y_train)"
      ],
      "execution_count": 0,
      "outputs": []
    },
    {
      "cell_type": "code",
      "metadata": {
        "id": "mp3plJJXFEUV",
        "colab_type": "code",
        "colab": {}
      },
      "source": [
        "y_pred=eclf1.predict_proba(Xtest)\n",
        "final=[]\n",
        "for i in y_pred:\n",
        "  final.append(i[1])\n",
        "result = pd.DataFrame(X_test['shot_id_number'], columns = ['shot_id_number']) \n",
        "result[\"is_goal\"]=final\n",
        "sample=pd.read_csv(\"/content/sample_submission.csv\")\n",
        "result=pd.merge(sample['shot_id_number'], result, on='shot_id_number')\n",
        "result.to_csv(\"/content/result_vc.csv\",index=False)"
      ],
      "execution_count": 0,
      "outputs": []
    },
    {
      "cell_type": "code",
      "metadata": {
        "id": "WHclT69uRWdL",
        "colab_type": "code",
        "colab": {}
      },
      "source": [
        "\"\"\"array([[0.6080214 , 0.3919786 ],\n",
        "       [0.40097622, 0.59902378],\n",
        "       [0.38592005, 0.61407995],\n",
        "       ...,\n",
        "       [0.58637865, 0.41362135],\n",
        "       [0.61033693, 0.38966307],\n",
        "       [0.38592005, 0.61407995]])\"\"\""
      ],
      "execution_count": 0,
      "outputs": []
    }
  ]
}